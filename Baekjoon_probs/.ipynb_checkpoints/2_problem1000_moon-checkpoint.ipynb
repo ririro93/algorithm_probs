{
 "cells": [
  {
   "cell_type": "markdown",
   "metadata": {},
   "source": [
    "__문제__: 두 정수 A와 B를 입력받은 다음, A+B를 출력하는 프로그램을 작성하시오.\n",
    "\n",
    "__입력__: 첫째 줄에 A와 B가 주어진다. (0 < A, B < 10)\n",
    "\n",
    "__출력__: 첫째 줄에 A+B를 출력한다.\n",
    "\n",
    "__예제 입력__:1 2\n",
    "\n",
    "__예제 출력__:3"
   ]
  },
  {
   "cell_type": "code",
   "execution_count": 2,
   "metadata": {},
   "outputs": [
    {
     "name": "stdout",
     "output_type": "stream",
     "text": [
      "1 2\n",
      "3\n"
     ]
    }
   ],
   "source": [
    "user_input = str(input())\n",
    "a = int(user_input[0])\n",
    "b = int(user_input[2])\n",
    "print(a + b)\n",
    "#스페이스도 input해야되는건가"
   ]
  },
  {
   "cell_type": "code",
   "execution_count": null,
   "metadata": {},
   "outputs": [],
   "source": []
  }
 ],
 "metadata": {
  "kernelspec": {
   "display_name": "Python 3",
   "language": "python",
   "name": "python3"
  },
  "language_info": {
   "codemirror_mode": {
    "name": "ipython",
    "version": 3
   },
   "file_extension": ".py",
   "mimetype": "text/x-python",
   "name": "python",
   "nbconvert_exporter": "python",
   "pygments_lexer": "ipython3",
   "version": "3.7.4"
  }
 },
 "nbformat": 4,
 "nbformat_minor": 2
}
