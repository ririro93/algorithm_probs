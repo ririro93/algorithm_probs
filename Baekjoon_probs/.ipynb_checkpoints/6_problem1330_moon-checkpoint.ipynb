{
 "cells": [
  {
   "cell_type": "markdown",
   "metadata": {},
   "source": [
    "## 문제\n",
    "두 정수 A와 B가 주어졌을 때, A와 B를 비교하는 프로그램을 작성하시오."
   ]
  },
  {
   "cell_type": "markdown",
   "metadata": {},
   "source": [
    "## 입력\n",
    "첫째 줄에 A와 B가 주어진다. A와 B는 공백 한 칸으로 구분되어져 있다."
   ]
  },
  {
   "cell_type": "markdown",
   "metadata": {},
   "source": [
    "## 출력\n",
    "첫째 줄에 다음 세 가지 중 하나를 출력한다.\n",
    "\n",
    "A가 B보다 큰 경우에는 '>'를 출력한다. <br>\n",
    "A가 B보다 작은 경우에는 '<'를 출력한다. <br>\n",
    "A와 B가 같은 경우에는 '=='를 출력한다. <br>"
   ]
  },
  {
   "cell_type": "markdown",
   "metadata": {},
   "source": [
    "## 예제입력, 예제출력\n",
    "10 5 <br>\n",
    "\\>\n",
    "<br>\n",
    "5 5 <br>\n",
    "\\=\\="
   ]
  },
  {
   "cell_type": "code",
   "execution_count": 6,
   "metadata": {},
   "outputs": [
    {
     "name": "stdout",
     "output_type": "stream",
     "text": [
      "5 6\n",
      "<\n"
     ]
    }
   ],
   "source": [
    "user_input = input()\n",
    "space_index = user_input.find(\" \")\n",
    "A = int(user_input[:space_index])\n",
    "B = int(user_input[space_index:])\n",
    "if A > B:\n",
    "    print(r\">\")\n",
    "elif A == B:\n",
    "    print(r\"==\")\n",
    "else:\n",
    "    print(r\"<\")"
   ]
  },
  {
   "cell_type": "code",
   "execution_count": null,
   "metadata": {},
   "outputs": [],
   "source": []
  }
 ],
 "metadata": {
  "kernelspec": {
   "display_name": "Python 3",
   "language": "python",
   "name": "python3"
  },
  "language_info": {
   "codemirror_mode": {
    "name": "ipython",
    "version": 3
   },
   "file_extension": ".py",
   "mimetype": "text/x-python",
   "name": "python",
   "nbconvert_exporter": "python",
   "pygments_lexer": "ipython3",
   "version": "3.7.4"
  }
 },
 "nbformat": 4,
 "nbformat_minor": 2
}
